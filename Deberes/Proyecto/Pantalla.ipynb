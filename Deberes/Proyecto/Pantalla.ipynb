{
 "cells": [
  {
   "cell_type": "code",
   "execution_count": 16,
   "metadata": {},
   "outputs": [],
   "source": [
    "from tkinter import *\n",
    "import time\n",
    "\n",
    "\n",
    "def parpadear():\n",
    "    ventana.iconify()\n",
    "    time.sleep(2)\n",
    "    ventana.deiconify()\n",
    "\n",
    "    \n",
    "ventana = Tk()\n",
    "boton = Button(ventana,text=\"Evento\",command = parpadear)\n",
    "boton.pack()\n",
    "ventana.mainloop()\n"
   ]
  },
  {
   "cell_type": "code",
   "execution_count": null,
   "metadata": {},
   "outputs": [],
   "source": [
    "\n"
   ]
  },
  {
   "cell_type": "code",
   "execution_count": null,
   "metadata": {},
   "outputs": [],
   "source": []
  }
 ],
 "metadata": {
  "kernelspec": {
   "display_name": "Python 3",
   "language": "python",
   "name": "python3"
  },
  "language_info": {
   "codemirror_mode": {
    "name": "ipython",
    "version": 3
   },
   "file_extension": ".py",
   "mimetype": "text/x-python",
   "name": "python",
   "nbconvert_exporter": "python",
   "pygments_lexer": "ipython3",
   "version": "3.7.3"
  }
 },
 "nbformat": 4,
 "nbformat_minor": 2
}
