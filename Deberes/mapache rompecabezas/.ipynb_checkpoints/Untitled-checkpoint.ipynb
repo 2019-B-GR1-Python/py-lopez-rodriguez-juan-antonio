{
 "cells": [
  {
   "cell_type": "markdown",
   "metadata": {},
   "source": [
    "# Rompecabezas"
   ]
  },
  {
   "cell_type": "code",
   "execution_count": 1,
   "metadata": {},
   "outputs": [],
   "source": [
    "from IPython.display import clear_output\n",
    "import numpy as np\n",
    "from time import sleep\n",
    "import math\n",
    "from scipy import ndimage\n",
    "from scipy import misc\n",
    "import random\n",
    "import matplotlib.pyplot as plt\n",
    "\n",
    "class Puzzle:\n",
    "    __imagen = misc.face()\n",
    "    original = None\n",
    "    imagen_actual = None\n",
    "    piezas = None\n",
    "    division_eje_x = 4\n",
    "    division_eje_y = 4\n",
    "    auxiliar = None\n",
    "    error = \"\"\n",
    "\n",
    "    \n",
    "    def __init__(self):\n",
    "        self.__imagen = misc.face()\n",
    "        y1, y2, y3, y4 = np.vsplit(self.__imagen, self.division_eje_y)\n",
    "        self.original = np.array([np.hsplit(y1, self.division_eje_x), np.hsplit(y2, self.division_eje_x), np.hsplit(y3, self.division_eje_x), np.hsplit(y4, self.division_eje_x)])\n",
    "        self.piezas = self.original.copy()\n",
    "        self.imagen_actual = np.zeros_like(self.original)\n",
    "        self.crear_juego()\n",
    "        self.armar_rompecabezas()\n",
    "    \n",
    "    \n",
    "    def crear_juego(self):\n",
    "        numero_de_piezas = self.division_eje_x * self.division_eje_y\n",
    "        posiciones_iniciales = random.sample(range(numero_de_piezas), numero_de_piezas)\n",
    "        contador = 0\n",
    "        for posicion in posiciones_iniciales:\n",
    "            self.imagen_actual[int(contador/self.division_eje_x), contador%self.division_eje_x] = self.piezas[int(posicion/self.division_eje_x), posicion%self.division_eje_x,:,:,:]\n",
    "            contador = contador + 1\n",
    "    \n",
    "    \n",
    "    def imprimir_rompecabezas(self):\n",
    "        juego = np.vstack([np.hstack(self.imagen_actual[0,:,:,:,:]), np.hstack(self.imagen_actual[1,:,:,:,:]), np.hstack(self.imagen_actual[2,:,:,:,:]), np.hstack(self.imagen_actual[3,:,:,:,:])]) \n",
    "        fig, axes = plt.subplots(nrows=1, ncols=2, figsize=(15, 15))                 \n",
    "        axes[0].imshow(juego)\n",
    "        axes[1].imshow(self.__imagen)\n",
    "        fig.tight_layout()\n",
    "    \n",
    "    \n",
    "    def intercambiar(self, inicial, final):\n",
    "        auxiliar = np.copy(self.imagen_actual[int(inicial/self.division_eje_x), inicial%self.division_eje_x])\n",
    "        self.imagen_actual[int(inicial/self.division_eje_x), inicial%self.division_eje_x] = self.imagen_actual[int(final/self.division_eje_x), final%self.division_eje_x]                  \n",
    "        self.imagen_actual[int(final/self.division_eje_x), final%self.division_eje_x] = np.copy(auxiliar)\n",
    "        \n",
    "        \n",
    "    def armar_rompecabezas(self):\n",
    "        while True:\n",
    "            clear_output()\n",
    "            if self.error == \"\":\n",
    "                pass\n",
    "            else:\n",
    "                print(self.error)\n",
    "            self.error = \"\"\n",
    "            self.imprimir_rompecabezas()\n",
    "            plt.pause(1)\n",
    "            \n",
    "            try:\n",
    "                inicial = int(input(\"Ingrese la posicion de la pieza que desea mover: \"))\n",
    "                final = int(input(\"Ingrese la posicion a la que desea mover la pieza: \"))\n",
    "            except Exception:\n",
    "                self.error = \"hHa ingresado un numero incorrecto\"\n",
    "                continue\n",
    "            \n",
    "            if inicial < 0 or inicial > 15 or final < 0 or final > 15:\n",
    "                self.error = \"Debe ingresar como posicion un numero entre 0 y 15\"\n",
    "            \n",
    "            else:\n",
    "                self.intercambiar(inicial, final)\n",
    "            \n",
    "            if np.array_equal(self.imagen_actual, self.original):\n",
    "                break\n",
    "                \n",
    "        clear_output()\n",
    "        print(\"Completado con exito\")\n",
    "        self.imprimir_rompecabezas()\n",
    "                \n",
    "        \n",
    "        \n",
    "        \n",
    "        \n",
    "        \n",
    "    "
   ]
  },
  {
   "cell_type": "markdown",
   "metadata": {},
   "source": [
    "# Considere la siguiente numeracion para las posiciones\n",
    "##  0 --- 1 --- 2 --- 3\n",
    "##  4 --- 5 --- 6 --- 7\n",
    "##  8 --- 9 -- 10 -- 11\n",
    "## 12 - 13 -- 14 - 15\n"
   ]
  },
  {
   "cell_type": "code",
   "execution_count": null,
   "metadata": {},
   "outputs": [],
   "source": [
    "puzzle = Puzzle()"
   ]
  },
  {
   "cell_type": "code",
   "execution_count": null,
   "metadata": {},
   "outputs": [],
   "source": []
  },
  {
   "cell_type": "code",
   "execution_count": null,
   "metadata": {},
   "outputs": [],
   "source": []
  },
  {
   "cell_type": "code",
   "execution_count": null,
   "metadata": {},
   "outputs": [],
   "source": []
  }
 ],
 "metadata": {
  "kernelspec": {
   "display_name": "Python 3",
   "language": "python",
   "name": "python3"
  },
  "language_info": {
   "codemirror_mode": {
    "name": "ipython",
    "version": 3
   },
   "file_extension": ".py",
   "mimetype": "text/x-python",
   "name": "python",
   "nbconvert_exporter": "python",
   "pygments_lexer": "ipython3",
   "version": "3.7.3"
  }
 },
 "nbformat": 4,
 "nbformat_minor": 2
}
