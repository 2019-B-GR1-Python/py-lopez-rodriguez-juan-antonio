{
 "cells": [
  {
   "cell_type": "code",
   "execution_count": 22,
   "metadata": {},
   "outputs": [
    {
     "name": "stdout",
     "output_type": "stream",
     "text": [
      "L1: Buenos dias\n",
      "\n",
      "L2: Buenas tardes\n",
      "\n",
      "<class 'str'>\n",
      "L3: Buenas nochesBuenas madrugadas\n",
      "\n",
      "<class 'str'>\n"
     ]
    }
   ],
   "source": [
    "# Archivos\n",
    "try:\n",
    "    path = \"./frases.txt\"\n",
    "    archivo_abierto = open(path)\n",
    "    linea_uno = archivo_abierto.readline()\n",
    "    print(f\"L1: {linea_uno}\")\n",
    "    linea_dos = archivo_abierto.readline()\n",
    "    print(f\"L2: {linea_dos}\")\n",
    "    print(type(linea_dos))\n",
    "    linea_tres = archivo_abierto.readline()\n",
    "    print(f\"L3: {linea_tres}\")\n",
    "    print(type(linea_tres))\n",
    "    archivo_abierto.close()\n",
    "except Exception as error:\n",
    "    print(\"Error\")\n"
   ]
  },
  {
   "cell_type": "code",
   "execution_count": 17,
   "metadata": {},
   "outputs": [
    {
     "name": "stdout",
     "output_type": "stream",
     "text": [
      "<class 'list'>\n",
      "['Buenos dias\\n', 'Buenas tardes\\n', 'Buenas nochesBuenas madrugadas\\n', 'ABC\\n', 'DEF\\n', 'Buenas madrugadas\\n', 'ABC\\n', 'DEF\\n']\n",
      "Buenos dias\n",
      "\n",
      "Buenas tardes\n",
      "\n",
      "Buenas nochesBuenas madrugadas\n",
      "\n",
      "ABC\n",
      "\n",
      "DEF\n",
      "\n",
      "Buenas madrugadas\n",
      "\n",
      "ABC\n",
      "\n",
      "DEF\n",
      "\n"
     ]
    }
   ],
   "source": [
    "# Archivos\n",
    "try:\n",
    "    path = \"./frases.txt\"\n",
    "    archivo_abierto = open(path)\n",
    "    contenido = archivo_abierto.readlines()\n",
    "    print(type(contenido))\n",
    "    print(contenido)\n",
    "    \n",
    "    for linea in contenido:\n",
    "        print(linea)\n",
    "    archivo_abierto.close()\n",
    "    \n",
    "except Exception as error:\n",
    "    print(\"Error\")\n",
    "\n",
    "    \n",
    "    "
   ]
  },
  {
   "cell_type": "code",
   "execution_count": 1,
   "metadata": {},
   "outputs": [],
   "source": [
    "try:\n",
    "    path = './frases.txt'\n",
    "    archivo_escritura_abierto = open(path,mode=\"a\")\n",
    "    # a => append\n",
    "    # w => write (sobreescribe)\n",
    "    archivo_escritura_abierto.write(\"\\nBuenas madrugadas\\n\")\n",
    "    archivo_escritura_abierto.writelines(\n",
    "        [\"ABC\\n\",\"DEF\\n\"]\n",
    "    )\n",
    "except Exceptione as error:\n",
    "    print('Error')\n"
   ]
  },
  {
   "cell_type": "code",
   "execution_count": 20,
   "metadata": {},
   "outputs": [
    {
     "name": "stdout",
     "output_type": "stream",
     "text": [
      "['Buenos dias\\n', 'Buenas tardes\\n', 'Buenas nochesBuenas madrugadas\\n', 'ABC\\n', 'DEF\\n', 'Buenas madrugadas\\n', 'ABC\\n', 'DEF\\n']\n",
      " \n",
      "aaaaaaaaaaa\n",
      "Buenos dias\n",
      "\n",
      "aaaaaaaaaaa\n",
      "Buenas tardes\n",
      "\n",
      "aaaaaaaaaaa\n",
      "Buenas nochesBuenas \n",
      "aaaaaaaaaaa\n",
      "ABC\n",
      "\n",
      "aaaaaaaaaaa\n",
      "DEF\n",
      "\n",
      "aaaaaaaaaaa\n",
      "Buenas madrugadas\n",
      "\n",
      "aaaaaaaaaaa\n",
      "ABC\n",
      "\n",
      "aaaaaaaaaaa\n",
      "DEF\n",
      "\n"
     ]
    }
   ],
   "source": [
    "try:\n",
    "    path = \"./frases.txt\"\n",
    "    archivo_abierto = open(path)\n",
    "    contenido = archivo_abierto.readlines()\n",
    "    \n",
    "    print(contenido)\n",
    "    print(\" \")\n",
    "    for linea in contenido:\n",
    "       # print(linea)\n",
    "    \n",
    "        print(\"aaaaaaaaaaa\")\n",
    "        print(linea[0:20])\n",
    "    \n",
    "    archivo_abierto.close()\n",
    "    \n",
    "except Exception as error:\n",
    "    print(\"Error\")"
   ]
  },
  {
   "cell_type": "code",
   "execution_count": 28,
   "metadata": {},
   "outputs": [
    {
     "name": "stdout",
     "output_type": "stream",
     "text": [
      "L2: Buenas tardes\n",
      "\n",
      "L3: Buenas nochesBuenas madrugadas\n",
      "\n"
     ]
    }
   ],
   "source": [
    "# Archivos\n",
    "try:\n",
    "    path = \"./frases.txt\"\n",
    "    archivo_abierto = open(path)\n",
    "    linea_uno = archivo_abierto.readline()\n",
    "    \n",
    "    linea_dos = archivo_abierto.readline()\n",
    "    print(f\"L2: {linea_dos}\")\n",
    "    \n",
    "    linea_tres = archivo_abierto.readline()\n",
    "    print(f\"L3: {linea_tres}\")\n",
    "    \n",
    "    archivo_abierto.close()\n",
    "except Exception as error:\n",
    "    print(\"Error\")"
   ]
  },
  {
   "cell_type": "code",
   "execution_count": 74,
   "metadata": {},
   "outputs": [
    {
     "name": "stdout",
     "output_type": "stream",
     "text": [
      "\n",
      "Error\n"
     ]
    }
   ],
   "source": [
    "print(\"\")\n",
    "#palabra = input(\"Ingrese nombre, apellido, cedula o especialidad del profesor que desea buscar: \")\n",
    "try:\n",
    "    path = \"./frases.txt\"\n",
    "    archivo_abierto = open(path,mode=\"w\")\n",
    "    contenido = archivo_abierto.readlines()\n",
    "    \n",
    "    print(contenido)\n",
    "    print(\" \")\n",
    "    print(contenido[2])\n",
    "    contenido[2] = \"JAJAAJAJ\"\n",
    "    archivo_abierto.close()\n",
    "    \n",
    "    \n",
    "    archivo_abierto = open(path,mode=\"w\")\n",
    "    archivo_abierto.writelines(\n",
    "    [contenido]\n",
    "    )\n",
    "    \n",
    "    print(contenido)\n",
    "    \n",
    "    \n",
    "except Exception as error:\n",
    "    print(\"Error\")"
   ]
  },
  {
   "cell_type": "code",
   "execution_count": 78,
   "metadata": {},
   "outputs": [
    {
     "name": "stdout",
     "output_type": "stream",
     "text": [
      "Error\n"
     ]
    }
   ],
   "source": [
    "\n",
    "try:\n",
    "    \n",
    "    path = \"./frases.txt\"\n",
    "    abierto = open( path, mode=\"r\" )  \n",
    "    contenidoLinea = []\n",
    "    for line in abierto:\n",
    "        if(line == \"2\"):\n",
    "            insertamos = \"JAJAJA\"\n",
    "        else:\n",
    "            insertamos = line\n",
    "\n",
    "        contenidoLinea.append( insertamos )\n",
    "    abierto.close()\n",
    "    \n",
    "    f.close()\n",
    "except Exception as error:\n",
    "    print(\"Error\")"
   ]
  },
  {
   "cell_type": "code",
   "execution_count": 80,
   "metadata": {},
   "outputs": [],
   "source": [
    "# abrimos el archivo solo de lectura\n",
    "f = open(\"x.txt\",\"r\")\n",
    " \n",
    "# Creamos una lista con cada una de sus lineas\n",
    "lineas = f.readlines()\n",
    " \n",
    "# cerramos el archivo\n",
    "f.close()\n",
    " \n",
    "# abrimos el archivo pero vacio\n",
    "f = open(\"x.txt\",\"w\")\n",
    " \n",
    "# recorremos todas las lineas\n",
    "for linea in lineas:\n",
    " \n",
    "    # miramos si el contenido de la linea es diferente a la linea a eliminar\n",
    "    # añadimos al final \\n que es el salto de linea\n",
    "    if linea!=\"linea 3\"+\"\\n\":\n",
    " \n",
    "        # Si no es la linea que queremos eliminar, guardamos la linea en el archivo\n",
    "        f.write(linea)\n",
    " \n",
    "# cerramos el archivo\n",
    "f.close()"
   ]
  },
  {
   "cell_type": "code",
   "execution_count": 123,
   "metadata": {},
   "outputs": [
    {
     "name": "stdout",
     "output_type": "stream",
     "text": [
      "elimnar: 5\n",
      "55666\n",
      "\n",
      "6555\n",
      "\n"
     ]
    }
   ],
   "source": [
    "# abrimos el archivo solo de lectura\n",
    "f = open(\"frases.txt\",\"r\")\n",
    " \n",
    "# Creamos una lista con cada una de sus lineas\n",
    "lineas = f.readlines()\n",
    " \n",
    "# cerramos el archivo\n",
    "f.close()\n",
    " \n",
    "# abrimos el archivo pero vacio\n",
    "f = open(\"frases.txt\",\"w\")\n",
    " \n",
    "eliminar = input(\"elimnar: \")\n",
    "\n",
    "        \n",
    "# recorremos todas las lineas\n",
    "for linea in lineas:\n",
    "    if(eliminar in linea):\n",
    "        print(linea)\n",
    "                    \n",
    "    # miramos si el contenido de la linea es diferente a la linea a eliminar\n",
    "    # añadimos al final \\n que es el salto de linea\n",
    "    if(linea!= eliminar + \"\\n\"):\n",
    " \n",
    "        # Si no es la linea que queremos eliminar, guardamos la linea en el archivo\n",
    "        f.write(linea)\n",
    " \n",
    "    # cerramos el archivo\n",
    "f.close()"
   ]
  },
  {
   "cell_type": "code",
   "execution_count": 102,
   "metadata": {},
   "outputs": [
    {
     "name": "stdout",
     "output_type": "stream",
     "text": [
      "Ingrese nombre, direccion o aforo del colegio que desea buscar: 88\n",
      "488989\n",
      "\n"
     ]
    }
   ],
   "source": [
    "palabra = input(\"Ingrese nombre, direccion o aforo del colegio que desea buscar: \")\n",
    "try:\n",
    "    path = \"./frases.txt\"\n",
    "    archivo_abierto = open(path)\n",
    "    contenido = archivo_abierto.readlines()\n",
    "                \n",
    "    for linea in contenido:\n",
    "        if(palabra in linea):\n",
    "            print(linea)\n",
    "    archivo_abierto.close()\n",
    "    \n",
    "except Exception as error:\n",
    "    print(\"Error\")"
   ]
  },
  {
   "cell_type": "code",
   "execution_count": null,
   "metadata": {},
   "outputs": [],
   "source": []
  },
  {
   "cell_type": "code",
   "execution_count": null,
   "metadata": {},
   "outputs": [],
   "source": []
  }
 ],
 "metadata": {
  "kernelspec": {
   "display_name": "Python 3",
   "language": "python",
   "name": "python3"
  },
  "language_info": {
   "codemirror_mode": {
    "name": "ipython",
    "version": 3
   },
   "file_extension": ".py",
   "mimetype": "text/x-python",
   "name": "python",
   "nbconvert_exporter": "python",
   "pygments_lexer": "ipython3",
   "version": "3.7.3"
  }
 },
 "nbformat": 4,
 "nbformat_minor": 2
}
