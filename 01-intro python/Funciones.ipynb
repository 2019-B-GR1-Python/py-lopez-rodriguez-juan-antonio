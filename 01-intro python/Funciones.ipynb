{
 "cells": [
  {
   "cell_type": "code",
   "execution_count": 1,
   "metadata": {},
   "outputs": [
    {
     "name": "stdout",
     "output_type": "stream",
     "text": [
      "Hola Juan\n"
     ]
    }
   ],
   "source": [
    "# Funciones\n",
    "def hola_mundo():   # None\n",
    "    print(\"Hola Juan\")\n",
    "hola_mundo()\n"
   ]
  },
  {
   "cell_type": "code",
   "execution_count": 5,
   "metadata": {},
   "outputs": [
    {
     "ename": "NameError",
     "evalue": "name 'sumar_dos_numeros' is not defined",
     "output_type": "error",
     "traceback": [
      "\u001b[1;31m---------------------------------------------------------------------------\u001b[0m",
      "\u001b[1;31mNameError\u001b[0m                                 Traceback (most recent call last)",
      "\u001b[1;32m<ipython-input-5-3586af63970f>\u001b[0m in \u001b[0;36m<module>\u001b[1;34m\u001b[0m\n\u001b[0;32m      1\u001b[0m \u001b[1;32mdef\u001b[0m \u001b[0msumar_dos_numero\u001b[0m\u001b[1;33m(\u001b[0m\u001b[0mnum_uno\u001b[0m\u001b[1;33m,\u001b[0m \u001b[0mnum_dos\u001b[0m\u001b[1;33m)\u001b[0m\u001b[1;33m:\u001b[0m\u001b[1;33m\u001b[0m\u001b[1;33m\u001b[0m\u001b[0m\n\u001b[0;32m      2\u001b[0m     \u001b[1;32mreturn\u001b[0m \u001b[0mnum_uno\u001b[0m \u001b[1;33m+\u001b[0m \u001b[0mnum_dos\u001b[0m\u001b[1;33m\u001b[0m\u001b[1;33m\u001b[0m\u001b[0m\n\u001b[1;32m----> 3\u001b[1;33m \u001b[0msuma\u001b[0m \u001b[1;33m=\u001b[0m \u001b[0msumar_dos_numeros\u001b[0m\u001b[1;33m(\u001b[0m\u001b[1;36m1\u001b[0m\u001b[1;33m,\u001b[0m\u001b[1;36m2\u001b[0m\u001b[1;33m)\u001b[0m\u001b[1;33m\u001b[0m\u001b[1;33m\u001b[0m\u001b[0m\n\u001b[0m\u001b[0;32m      4\u001b[0m \u001b[0mprint\u001b[0m\u001b[1;33m(\u001b[0m\u001b[1;34mf\"suma {suma}\"\u001b[0m\u001b[1;33m)\u001b[0m\u001b[1;33m\u001b[0m\u001b[1;33m\u001b[0m\u001b[0m\n",
      "\u001b[1;31mNameError\u001b[0m: name 'sumar_dos_numeros' is not defined"
     ]
    }
   ],
   "source": [
    "def sumar_dos_numero(num_uno, num_dos): #Arg Requeridos\n",
    "    return num_uno + num_dos\n",
    "suma = sumar_dos_numero(1,2)\n",
    "print(f\"suma {suma}\")"
   ]
  },
  {
   "cell_type": "code",
   "execution_count": 6,
   "metadata": {},
   "outputs": [
    {
     "name": "stdout",
     "output_type": "stream",
     "text": [
      "suma 3\n"
     ]
    }
   ],
   "source": [
    "def sumar_dos_numero(num_uno, num_dos): #Arg Requeridos\n",
    "    return num_uno + num_dos\n",
    "suma = sumar_dos_numero(1,2)\n",
    "print(f\"suma {suma}\")"
   ]
  },
  {
   "cell_type": "code",
   "execution_count": 9,
   "metadata": {},
   "outputs": [
    {
     "name": "stdout",
     "output_type": "stream",
     "text": [
      "nombre EPN\n",
      "nombre ESPE\n"
     ]
    }
   ],
   "source": [
    "def imprimir_universidad(nombre = 'EPN'):\n",
    "    print(f\"nombre {nombre}\")\n",
    "imprimir_universidad()\n",
    "imprimir_universidad(\"ESPE\")"
   ]
  },
  {
   "cell_type": "code",
   "execution_count": 15,
   "metadata": {},
   "outputs": [
    {
     "name": "stdout",
     "output_type": "stream",
     "text": [
      "Color: Blanco\n",
      "Placa: abc-123\n",
      "Caballos de fuerza: 2000\n",
      "Año: 1970\n",
      "Color: Amazul\n",
      "Placa: def-456\n",
      "Caballos de fuerza: 3500\n",
      "Año: 2005\n",
      "Color: Cafe\n",
      "Placa: msn-213\n",
      "Caballos de fuerza: 3500\n",
      "Año: 2003\n"
     ]
    }
   ],
   "source": [
    "def imprimir_carro(color, placa, hp, anio):\n",
    "    print(f\"Color: {color}\")\n",
    "    print(f\"Placa: {placa}\")\n",
    "    print(f\"Caballos de fuerza: {hp}\")\n",
    "    print(f\"Año: {anio}\")\n",
    "imprimir_carro(\"Blanco\",\"abc-123\",2000,1970)\n",
    "imprimir_carro(anio = 2005,\n",
    "              color = \"Amazul\",\n",
    "              placa = \"def-456\",\n",
    "              hp = 3500)\n",
    "#Named Parameters\n",
    "imprimir_carro(\"Cafe\", \"msn-213\", anio = 2003, hp = 3500)"
   ]
  },
  {
   "cell_type": "code",
   "execution_count": 18,
   "metadata": {},
   "outputs": [
    {
     "name": "stdout",
     "output_type": "stream",
     "text": [
      "Color: 1970\n",
      "Placa: Blanco\n",
      "Caballos de fuerza: abc-123\n",
      "Año: 2000\n",
      "Color: Amazul\n",
      "Placa: def-456\n",
      "Caballos de fuerza: 3500\n",
      "Año: 2005\n",
      "Color: Rojo\n",
      "Placa: msn-213\n",
      "Caballos de fuerza: 3500\n",
      "Año: 2003\n"
     ]
    }
   ],
   "source": [
    "def imprimir_carro(placa, hp, anio, color = 'Rojo'):\n",
    "    print(f\"Color: {color}\")\n",
    "    print(f\"Placa: {placa}\")\n",
    "    print(f\"Caballos de fuerza: {hp}\")\n",
    "    print(f\"Año: {anio}\")\n",
    "imprimir_carro(\"Blanco\",\"abc-123\",2000,1970)\n",
    "imprimir_carro(anio = 2005,\n",
    "              color = \"Amazul\",\n",
    "              placa = \"def-456\",\n",
    "              hp = 3500)\n",
    "#Named Parameters\n",
    "imprimir_carro(\"msn-213\", anio = 2003, hp = 3500)"
   ]
  },
  {
   "cell_type": "code",
   "execution_count": 23,
   "metadata": {},
   "outputs": [
    {
     "name": "stdout",
     "output_type": "stream",
     "text": [
      "Color: Cafe\n",
      "Placa: msn-213\n",
      "Caballos de fuerza: 3500\n",
      "Año: 2001\n"
     ]
    }
   ],
   "source": [
    "def imprimir_carro(color, placa, hp, anio=2001):\n",
    "    print(f\"Color: {color}\")\n",
    "    print(f\"Placa: {placa}\")\n",
    "    print(f\"Caballos de fuerza: {hp}\")\n",
    "    print(f\"Año: {anio}\")\n",
    "\n",
    "# Named Parameters\n",
    "# Posotional Parameters ejemplo \"Cafe\"\n",
    "imprimir_carro(\"Cafe\", placa=\"msn-213\", hp=3500)"
   ]
  },
  {
   "cell_type": "code",
   "execution_count": 34,
   "metadata": {},
   "outputs": [
    {
     "data": {
      "text/plain": [
       "15"
      ]
     },
     "execution_count": 34,
     "metadata": {},
     "output_type": "execute_result"
    }
   ],
   "source": [
    "# suma de infinitos numeros\n",
    "def sumar_numeros(primer_numero,\n",
    "                  *numeros):  # Param. Infinitos\n",
    "    longitud = len(numeros)\n",
    "    if(longitud == 0):\n",
    "        return primer_numero\n",
    "    else: \n",
    "        suma = 0 + primer_numero\n",
    "        for numero in numeros:\n",
    "            suma = suma + numero \n",
    "        return suma\n",
    "\n",
    "sumar_numeros(1,2,3,4,5)\n"
   ]
  },
  {
   "cell_type": "code",
   "execution_count": 35,
   "metadata": {},
   "outputs": [
    {
     "data": {
      "text/plain": [
       "4"
      ]
     },
     "execution_count": 35,
     "metadata": {},
     "output_type": "execute_result"
    }
   ],
   "source": [
    "# suma de infinitos numeros\n",
    "def sumar_numeros(*numeros,\n",
    "                  primer_numero):  # Param. Infinitos\n",
    "    longitud = len(numeros)\n",
    "    if(longitud == 0):\n",
    "        return primer_numero\n",
    "    else: \n",
    "        suma = 0 + primer_numero\n",
    "        for numero in numeros:\n",
    "            suma = suma + numero \n",
    "        return suma\n",
    "\n",
    "sumar_numeros(1, 2, primer_numero = 1 )\n",
    "\n",
    "#el infinto se pone \n",
    "# final, RECOMENDADO\n",
    "# medio, despues de requeridos \n",
    "# prinicipio"
   ]
  },
  {
   "cell_type": "code",
   "execution_count": 36,
   "metadata": {},
   "outputs": [
    {
     "ename": "SyntaxError",
     "evalue": "invalid syntax (<ipython-input-36-29c431c276a5>, line 3)",
     "output_type": "error",
     "traceback": [
      "\u001b[1;36m  File \u001b[1;32m\"<ipython-input-36-29c431c276a5>\"\u001b[1;36m, line \u001b[1;32m3\u001b[0m\n\u001b[1;33m    *numeros, *tuplas):  # Param. Infinitos\u001b[0m\n\u001b[1;37m              ^\u001b[0m\n\u001b[1;31mSyntaxError\u001b[0m\u001b[1;31m:\u001b[0m invalid syntax\n"
     ]
    }
   ],
   "source": [
    "# suma de infinitos numeros\n",
    "def sumar_numeros(primer_numero,\n",
    "                  *numeros, *tuplas):  # Param. Infinitos\n",
    "    print(type(numeros))\n",
    "    print(numeros)\n",
    "    print(type(tuplas))\n",
    "    print(tuplas)\n",
    "    \n",
    "    longitud = len(numeros)\n",
    "    if(longitud == 0):\n",
    "        return primer_numero\n",
    "    else: \n",
    "        suma = 0 + primer_numero\n",
    "        for numero in numeros:\n",
    "            suma = suma + numero \n",
    "        return suma\n",
    "\n",
    "sumar_numeros(1,2,3,4,5)\n",
    "\n",
    "#NO SE PUEDEN MANDAR DOS INFINITOS\n"
   ]
  },
  {
   "cell_type": "code",
   "execution_count": 42,
   "metadata": {},
   "outputs": [
    {
     "name": "stdout",
     "output_type": "stream",
     "text": [
      "<class 'dict'>\n",
      "{'tiempo_espera': 10, 'conexiones': 5}\n"
     ]
    }
   ],
   "source": [
    "def imprimir_configuracion(nombre,    # reuerido\n",
    "                          valor = 10,  # opcional\n",
    "                          *valorlores_carga,  #infinito\n",
    "                          **key_word_arguments):\n",
    "    print(type(key_word_arguments))\n",
    "    print(key_word_arguments)\n",
    "imprimir_configuracion(nombre = \"config_1\",\n",
    "                       valor = 20,\n",
    "                      tiempo_espera = 10,\n",
    "                      conexiones = 5)\n"
   ]
  },
  {
   "cell_type": "code",
   "execution_count": null,
   "metadata": {},
   "outputs": [],
   "source": []
  }
 ],
 "metadata": {
  "kernelspec": {
   "display_name": "Python 3",
   "language": "python",
   "name": "python3"
  },
  "language_info": {
   "codemirror_mode": {
    "name": "ipython",
    "version": 3
   },
   "file_extension": ".py",
   "mimetype": "text/x-python",
   "name": "python",
   "nbconvert_exporter": "python",
   "pygments_lexer": "ipython3",
   "version": "3.7.3"
  }
 },
 "nbformat": 4,
 "nbformat_minor": 2
}
