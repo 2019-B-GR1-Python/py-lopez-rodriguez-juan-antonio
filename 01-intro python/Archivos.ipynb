{
 "cells": [
  {
   "cell_type": "code",
   "execution_count": 9,
   "metadata": {},
   "outputs": [
    {
     "name": "stdout",
     "output_type": "stream",
     "text": [
      "L1: Buenos dias\n",
      "\n",
      "L2: Buenas tardes\n",
      "\n",
      "<class 'str'>\n",
      "L3: Buenas noches\n",
      "<class 'str'>\n"
     ]
    }
   ],
   "source": [
    "# Archivos\n",
    "try:\n",
    "    path = \"./frases.txt\"\n",
    "    archivo_abierto = open(path)\n",
    "    linea_uno = archivo_abierto.readline()\n",
    "    print(f\"L1: {linea_uno}\")\n",
    "    linea_dos = archivo_abierto.readline()\n",
    "    print(f\"L2: {linea_dos}\")\n",
    "    print(type(linea_dos))\n",
    "    linea_tres = archivo_abierto.readline()\n",
    "    print(f\"L3: {linea_tres}\")\n",
    "    print(type(linea_tres))\n",
    "    archivo_abierto.close()\n",
    "except Exception as error:\n",
    "    print(\"Error\")\n"
   ]
  },
  {
   "cell_type": "code",
   "execution_count": 17,
   "metadata": {},
   "outputs": [
    {
     "name": "stdout",
     "output_type": "stream",
     "text": [
      "<class 'list'>\n",
      "['Buenos dias\\n', 'Buenas tardes\\n', 'Buenas nochesBuenas madrugadas\\n', 'ABC\\n', 'DEF\\n', 'Buenas madrugadas\\n', 'ABC\\n', 'DEF\\n']\n",
      "Buenos dias\n",
      "\n",
      "Buenas tardes\n",
      "\n",
      "Buenas nochesBuenas madrugadas\n",
      "\n",
      "ABC\n",
      "\n",
      "DEF\n",
      "\n",
      "Buenas madrugadas\n",
      "\n",
      "ABC\n",
      "\n",
      "DEF\n",
      "\n"
     ]
    }
   ],
   "source": [
    "# Archivos\n",
    "try:\n",
    "    path = \"./frases.txt\"\n",
    "    archivo_abierto = open(path)\n",
    "    contenido = archivo_abierto.readlines()\n",
    "    print(type(contenido))\n",
    "    print(contenido)\n",
    "    \n",
    "    for linea in contenido:\n",
    "        print(linea)\n",
    "    archivo_abierto.close()\n",
    "    \n",
    "except Exception as error:\n",
    "    print(\"Error\")\n"
   ]
  },
  {
   "cell_type": "code",
   "execution_count": 16,
   "metadata": {},
   "outputs": [],
   "source": [
    "try:\n",
    "    path = './frases.txt'\n",
    "    archivo_escritura_abierto = open(path,mode=\"a\")\n",
    "    # a => append\n",
    "    # w => write (sobreescribe)\n",
    "    archivo_escritura_abierto.write(\"\\nBuenas madrugadas\\n\")\n",
    "    archivo_escritura_abierto.writelines(\n",
    "        [\"ABC\\n\",\"DEF\\n\"]\n",
    "    )\n",
    "except Exceptione as error:\n",
    "    print('Error')\n"
   ]
  },
  {
   "cell_type": "code",
   "execution_count": null,
   "metadata": {},
   "outputs": [],
   "source": []
  }
 ],
 "metadata": {
  "kernelspec": {
   "display_name": "Python 3",
   "language": "python",
   "name": "python3"
  },
  "language_info": {
   "codemirror_mode": {
    "name": "ipython",
    "version": 3
   },
   "file_extension": ".py",
   "mimetype": "text/x-python",
   "name": "python",
   "nbconvert_exporter": "python",
   "pygments_lexer": "ipython3",
   "version": "3.7.3"
  }
 },
 "nbformat": 4,
 "nbformat_minor": 2
}
