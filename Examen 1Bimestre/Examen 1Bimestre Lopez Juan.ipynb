{
 "cells": [
  {
   "cell_type": "markdown",
   "metadata": {},
   "source": [
    "## 1) Examen Lopez Juan\n",
    "\n",
    "# 2) Crear un vector de ceros de tamaño 10"
   ]
  },
  {
   "cell_type": "code",
   "execution_count": 3,
   "metadata": {},
   "outputs": [
    {
     "name": "stdout",
     "output_type": "stream",
     "text": [
      "[0. 0. 0. 0. 0. 0. 0. 0. 0. 0.]\n"
     ]
    }
   ],
   "source": [
    "import numpy as np\n",
    "vector_zeros = np.zeros(10)\n",
    "print(vector_zeros)"
   ]
  },
  {
   "cell_type": "markdown",
   "metadata": {},
   "source": [
    "# 3) Crear un vector de ceros de tamaño 10 y el de la posicion 5 sea igual a 1"
   ]
  },
  {
   "cell_type": "code",
   "execution_count": 4,
   "metadata": {},
   "outputs": [
    {
     "name": "stdout",
     "output_type": "stream",
     "text": [
      "[0. 0. 0. 0. 1. 0. 0. 0. 0. 0.]\n"
     ]
    }
   ],
   "source": [
    "vector_zeros_un_uno = np.zeros(10)\n",
    "vector_zeros_un_uno[4]=1\n",
    "print(vector_zeros_un_uno)"
   ]
  },
  {
   "cell_type": "markdown",
   "metadata": {},
   "source": [
    "# 4) Cambiar el orden de un vector de 50 elementos, el de la posicion 1 es el de la 50 etc."
   ]
  },
  {
   "cell_type": "code",
   "execution_count": 7,
   "metadata": {},
   "outputs": [
    {
     "name": "stdout",
     "output_type": "stream",
     "text": [
      "[49 48 47 46 45 44 43 42 41 40 39 38 37 36 35 34 33 32 31 30 29 28 27 26\n",
      " 25 24 23 22 21 20 19 18 17 16 15 14 13 12 11 10  9  8  7  6  5  4  3  2\n",
      "  1  0]\n"
     ]
    }
   ],
   "source": [
    "elementos_cincuenta = np.arange(50)\n",
    "invertido = elementos_cincuenta[::-1]\n",
    "print(invertido)"
   ]
  },
  {
   "cell_type": "markdown",
   "metadata": {},
   "source": [
    "# 5) Crear una matriz de 3 x 3 con valores del cero al 8"
   ]
  },
  {
   "cell_type": "code",
   "execution_count": 13,
   "metadata": {},
   "outputs": [
    {
     "name": "stdout",
     "output_type": "stream",
     "text": [
      "[[0 1 2]\n",
      " [3 4 5]\n",
      " [6 7 8]]\n"
     ]
    }
   ],
   "source": [
    "matriz_tres = np.arange(9).reshape(3,3)\n",
    "print(matriz_tres)"
   ]
  },
  {
   "cell_type": "markdown",
   "metadata": {},
   "source": [
    "# 6) Encontrar los indices que no sean cero en un arreglo"
   ]
  },
  {
   "cell_type": "code",
   "execution_count": 17,
   "metadata": {},
   "outputs": [
    {
     "name": "stdout",
     "output_type": "stream",
     "text": [
      "Los indices son:(array([0, 1, 4], dtype=int64),)\n"
     ]
    }
   ],
   "source": [
    "import numpy as np\n",
    "arreglo = [1,2,0,0,4,0]\n",
    "\n",
    "no_zeros = np.nonzero(arreglo)\n",
    "print(f'Los indices son:{no_zeros}')"
   ]
  },
  {
   "cell_type": "markdown",
   "metadata": {},
   "source": [
    "# 7) Crear una matriz de identidad 3 x 3"
   ]
  },
  {
   "cell_type": "code",
   "execution_count": 20,
   "metadata": {},
   "outputs": [
    {
     "name": "stdout",
     "output_type": "stream",
     "text": [
      "[[1. 0. 0.]\n",
      " [0. 1. 0.]\n",
      " [0. 0. 1.]]\n"
     ]
    }
   ],
   "source": [
    "identidad = np.eye(3)\n",
    "print(identidad)"
   ]
  },
  {
   "cell_type": "markdown",
   "metadata": {},
   "source": [
    "# 8) Crear una matriz 3 x 3 x 3 con valores randomicos"
   ]
  },
  {
   "cell_type": "code",
   "execution_count": 22,
   "metadata": {},
   "outputs": [
    {
     "name": "stdout",
     "output_type": "stream",
     "text": [
      "[[[0.72468432 0.38739685 0.86588571]\n",
      "  [0.93484814 0.20062665 0.82194434]\n",
      "  [0.94287837 0.6690916  0.30504025]]\n",
      "\n",
      " [[0.7041081  0.18259676 0.23118795]\n",
      "  [0.78911816 0.79085669 0.72631121]\n",
      "  [0.00744179 0.12142294 0.60531509]]\n",
      "\n",
      " [[0.15538989 0.65006054 0.8279027 ]\n",
      "  [0.90342926 0.39763751 0.2394241 ]\n",
      "  [0.96258391 0.51602444 0.14584774]]]\n"
     ]
    }
   ],
   "source": [
    "matriz_tresd = np.random.random((3,3,3))\n",
    "print(matriz_tresd)"
   ]
  },
  {
   "cell_type": "markdown",
   "metadata": {},
   "source": [
    "# 9) Crear una matriz 10 x 10 y encontrar el mayor y el menor"
   ]
  },
  {
   "cell_type": "code",
   "execution_count": 27,
   "metadata": {},
   "outputs": [
    {
     "name": "stdout",
     "output_type": "stream",
     "text": [
      "[[0.9898885  0.93971085 0.19325072 0.70147056 0.82079287 0.12159167\n",
      "  0.25198352 0.54118504 0.52945521 0.6877645 ]\n",
      " [0.08744036 0.78332734 0.45370472 0.0573308  0.16023923 0.13451453\n",
      "  0.19632332 0.93561922 0.3765107  0.16292084]\n",
      " [0.01436356 0.75865177 0.18233371 0.34804112 0.31625643 0.12613119\n",
      "  0.25513683 0.58022807 0.21610356 0.39394438]\n",
      " [0.94401884 0.65493512 0.79897937 0.86567031 0.20568183 0.8656668\n",
      "  0.79143301 0.92685893 0.19948191 0.27061318]\n",
      " [0.66118508 0.06366111 0.77417384 0.09875434 0.775833   0.85053102\n",
      "  0.42834344 0.19722686 0.88169986 0.65536084]\n",
      " [0.8064666  0.83206053 0.95693101 0.90889675 0.09411259 0.82387414\n",
      "  0.00428885 0.29540983 0.93599987 0.54939028]\n",
      " [0.99935248 0.02209157 0.0485324  0.06544926 0.77659717 0.07444484\n",
      "  0.7189547  0.16771532 0.89903986 0.64379062]\n",
      " [0.0129873  0.00133644 0.22661053 0.88510959 0.13272227 0.94586028\n",
      "  0.67943479 0.39385145 0.53916149 0.84661674]\n",
      " [0.60421254 0.01061184 0.4085112  0.95820772 0.01493852 0.23217629\n",
      "  0.25981255 0.90139477 0.64114329 0.07618698]\n",
      " [0.63035258 0.6418886  0.21067674 0.91653074 0.98440757 0.02879346\n",
      "  0.51025136 0.96749282 0.15157471 0.44596199]]\n",
      "\n",
      "El mayor valor de la matriz es: 0.9993524808405579\n",
      "\n",
      "El mayor valor de la matriz es: 0.0013364444789367713\n"
     ]
    }
   ],
   "source": [
    "matriz_diez = np.random.random((10,10))\n",
    "print(matriz_diez)\n",
    "print(f'\\nEl mayor valor de la matriz es: {matriz_diez.max()}')\n",
    "print(f'\\nEl mayor valor de la matriz es: {matriz_diez.min()}')"
   ]
  },
  {
   "cell_type": "markdown",
   "metadata": {},
   "source": [
    "# 10) Sacar los colores RGB unicos en una imagen (cuales rgb existen ej: 0, 0, 0 - 255,255,255 -> 2 colores)"
   ]
  },
  {
   "cell_type": "code",
   "execution_count": 144,
   "metadata": {},
   "outputs": [
    {
     "name": "stdout",
     "output_type": "stream",
     "text": [
      "[[  0   0   5]\n",
      " [  0   0   7]\n",
      " [  0   0   9]\n",
      " ...\n",
      " [255 248 255]\n",
      " [255 249 255]\n",
      " [255 252 255]]\n",
      "--> 3 colores\n"
     ]
    }
   ],
   "source": [
    "from scipy import ndimage\n",
    "from scipy import misc\n",
    "\n",
    "img = misc.face()\n",
    "rgb = np.unique(img.reshape(-1, img.shape[2]), axis=0)\n",
    "print(rgb)\n",
    "print('--> 3 colores')\n"
   ]
  },
  {
   "cell_type": "markdown",
   "metadata": {},
   "source": [
    "# 11) ¿Como crear una serie de una lista, diccionario o arreglo?"
   ]
  },
  {
   "cell_type": "code",
   "execution_count": 107,
   "metadata": {},
   "outputs": [
    {
     "name": "stdout",
     "output_type": "stream",
     "text": [
      "a     0\n",
      "b     1\n",
      "c     2\n",
      "e     3\n",
      "d     4\n",
      "f     5\n",
      "g     6\n",
      "h     7\n",
      "i     8\n",
      "j     9\n",
      "k    10\n",
      "l    11\n",
      "m    12\n",
      "n    13\n",
      "o    14\n",
      "p    15\n",
      "q    16\n",
      "r    17\n",
      "s    18\n",
      "t    19\n",
      "u    20\n",
      "v    21\n",
      "w    22\n",
      "x    23\n",
      "y    24\n",
      "z    25\n",
      "dtype: int64\n"
     ]
    }
   ],
   "source": [
    "import numpy as np\n",
    "mylist = list('abcedfghijklmnopqrstuvwxyz')\n",
    "myarr = np.arange(26)\n",
    "mydict = dict(zip(mylist, myarr))\n",
    "\n",
    "import pandas as pd\n",
    "serie_lista = pd.Series(mylist)\n",
    "serie_array = pd.Series(myarr)\n",
    "serie_dict = pd.Series(mydict)\n",
    "#print(serie_dict)"
   ]
  },
  {
   "cell_type": "markdown",
   "metadata": {},
   "source": [
    "# 12) ¿Como convertir el indice de una serie en una columna de un DataFrame?"
   ]
  },
  {
   "cell_type": "code",
   "execution_count": 41,
   "metadata": {},
   "outputs": [
    {
     "name": "stdout",
     "output_type": "stream",
     "text": [
      "<bound method DataFrame.reset_index of     0\n",
      "a   0\n",
      "b   1\n",
      "c   2\n",
      "e   3\n",
      "d   4\n",
      "f   5\n",
      "g   6\n",
      "h   7\n",
      "i   8\n",
      "j   9\n",
      "k  10\n",
      "l  11\n",
      "m  12\n",
      "n  13\n",
      "o  14\n",
      "p  15\n",
      "q  16\n",
      "r  17\n",
      "s  18\n",
      "t  19\n",
      "u  20\n",
      "v  21\n",
      "w  22\n",
      "x  23\n",
      "y  24\n",
      "z  25>\n"
     ]
    }
   ],
   "source": [
    "mylist = list('abcedfghijklmnopqrstuvwxyz')\n",
    "myarr = np.arange(26)\n",
    "mydict = dict(zip(mylist, myarr))\n",
    "ser = pd.Series(mydict) \n",
    "# Transformar la serie en dataframe y hacer una columna indice\n",
    "\n",
    "#print(ser)\n",
    "dt = ser.to_frame().reset_index\n",
    "print(dt)"
   ]
  },
  {
   "cell_type": "markdown",
   "metadata": {},
   "source": [
    "# 13) ¿Como combinar varias series para hacer un DataFrame?"
   ]
  },
  {
   "cell_type": "code",
   "execution_count": 109,
   "metadata": {},
   "outputs": [
    {
     "name": "stdout",
     "output_type": "stream",
     "text": [
      "   Serie 1  Serie 2\n",
      "0        a        0\n",
      "1        b        1\n",
      "2        c        2\n",
      "3        e        3\n",
      "4        d        4\n",
      "5        f        5\n",
      "6        g        6\n",
      "7        h        7\n",
      "8        i        8\n",
      "9        j        9\n",
      "10       k       10\n",
      "11       l       11\n",
      "12       m       12\n",
      "13       n       13\n",
      "14       o       14\n",
      "15       p       15\n",
      "16       q       16\n",
      "17       r       17\n",
      "18       s       18\n",
      "19       t       19\n",
      "20       u       20\n",
      "21       v       21\n",
      "22       w       22\n",
      "23       x       23\n",
      "24       y       24\n",
      "25       z       25\n"
     ]
    }
   ],
   "source": [
    "import numpy as np\n",
    "ser1 = pd.Series(list('abcedfghijklmnopqrstuvwxyz'))\n",
    "ser2 = pd.Series(np.arange(26))\n",
    "\n",
    "df_de_series = pd.DataFrame({'Serie 1': ser1 , 'Serie 2' : ser2})\n",
    "print(df_de_series)"
   ]
  },
  {
   "cell_type": "markdown",
   "metadata": {},
   "source": [
    "# 14) ¿Como obtener los items que esten en una serie A y no en una serie B?"
   ]
  },
  {
   "cell_type": "code",
   "execution_count": 114,
   "metadata": {},
   "outputs": [
    {
     "name": "stdout",
     "output_type": "stream",
     "text": [
      "Los items de A que no estan en B son:\n",
      "0    1\n",
      "1    2\n",
      "2    3\n",
      "dtype: int64\n"
     ]
    }
   ],
   "source": [
    "ser1 = pd.Series([1, 2, 3, 4, 5])\n",
    "ser2 = pd.Series([4, 5, 6, 7, 8])\n",
    "a_no_en_b = ser1[~ser1.isin(ser2)]\n",
    "\n",
    "print(f'Los items de A que no estan en B son:\\n{a_no_en_b}')"
   ]
  },
  {
   "cell_type": "markdown",
   "metadata": {},
   "source": [
    "# 15) ¿Como obtener los items que no son comunes en una serie A y serie B?"
   ]
  },
  {
   "cell_type": "code",
   "execution_count": 116,
   "metadata": {},
   "outputs": [
    {
     "name": "stdout",
     "output_type": "stream",
     "text": [
      "Los items que no son comunes en A y B son: [1 2 3 6 7 8] \n"
     ]
    }
   ],
   "source": [
    "ser1 = pd.Series([1, 2, 3, 4, 5])\n",
    "ser2 = pd.Series([4, 5, 6, 7, 8])\n",
    "\n",
    "a_no_en_b = ser1[~ser1.isin(ser2)]\n",
    "b_no_en_a = ser2[~ser2.isin(ser1)]\n",
    "no_comunes_a_b = np.append(a_no_en_b, b_no_en_a)\n",
    "print(f'Los items que no son comunes en A y B son: {no_comunes_a_b} ')"
   ]
  },
  {
   "cell_type": "markdown",
   "metadata": {},
   "source": [
    "# 16) ¿Como obtener el numero de veces que se repite un valor en una serie?"
   ]
  },
  {
   "cell_type": "code",
   "execution_count": 121,
   "metadata": {},
   "outputs": [
    {
     "name": "stdout",
     "output_type": "stream",
     "text": [
      "valor/repeticiones\n",
      "d    7\n",
      "g    5\n",
      "h    4\n",
      "a    3\n",
      "b    3\n",
      "e    3\n",
      "f    3\n",
      "c    2\n",
      "dtype: int64\n"
     ]
    }
   ],
   "source": [
    "ser = pd.Series(np.take(list('abcdefgh'), np.random.randint(8, size=30)))\n",
    "print('valor/repeticiones')\n",
    "print(ser.value_counts())"
   ]
  },
  {
   "cell_type": "markdown",
   "metadata": {},
   "source": [
    "# 17) ¿Como mantener los 2 valores mas repetidos de una serie, y a los demas valores cambiarles por 0 ?"
   ]
  },
  {
   "cell_type": "code",
   "execution_count": 124,
   "metadata": {},
   "outputs": [
    {
     "name": "stdout",
     "output_type": "stream",
     "text": [
      "Serie\n",
      "0     2\n",
      "1     1\n",
      "2     1\n",
      "3     4\n",
      "4     3\n",
      "5     4\n",
      "6     4\n",
      "7     4\n",
      "8     4\n",
      "9     2\n",
      "10    3\n",
      "11    1\n",
      "dtype: int32\n",
      "\n",
      "Valor/Repeticiones\n",
      "4    5\n",
      "1    3\n",
      "3    2\n",
      "2    2\n",
      "dtype: int64\n",
      "\n",
      "Serie con ceros\n",
      "0     0\n",
      "1     1\n",
      "2     1\n",
      "3     4\n",
      "4     0\n",
      "5     4\n",
      "6     4\n",
      "7     4\n",
      "8     4\n",
      "9     0\n",
      "10    0\n",
      "11    1\n",
      "dtype: int32\n"
     ]
    }
   ],
   "source": [
    "np.random.RandomState(100)\n",
    "ser = pd.Series(np.random.randint(1, 5, [12]))\n",
    "print('Serie')\n",
    "print(ser)\n",
    "print('\\nValor/Repeticiones')\n",
    "print(ser.value_counts())\n",
    "ser[~ser.isin(ser.value_counts().index[:2])] = 0\n",
    "print('\\nSerie con ceros')\n",
    "print(ser)"
   ]
  },
  {
   "cell_type": "markdown",
   "metadata": {},
   "source": [
    "# 18) ¿Como transformar una serie de un arreglo de numpy a un DataFrame con un shape definido?"
   ]
  },
  {
   "cell_type": "code",
   "execution_count": 87,
   "metadata": {},
   "outputs": [
    {
     "name": "stdout",
     "output_type": "stream",
     "text": [
      "   0  1  2  3  4\n",
      "0  4  4  1  2  5\n",
      "1  8  7  8  4  3\n",
      "2  9  6  9  5  2\n",
      "3  7  4  4  5  9\n",
      "4  1  2  2  2  5\n",
      "5  9  5  1  2  9\n",
      "6  8  8  2  8  1\n"
     ]
    }
   ],
   "source": [
    "#ser = pd.Series(np.random.randint(1, 10, 35))\n",
    "#shape(7,5)\n",
    "\n",
    "df_arreglo = pd.DataFrame(ser.values.reshape(7,5))\n",
    "print(df_arreglo)"
   ]
  },
  {
   "cell_type": "markdown",
   "metadata": {},
   "source": [
    "# 19) ¿Obtener los valores de una serie conociendo la posicion por indice?"
   ]
  },
  {
   "cell_type": "code",
   "execution_count": 88,
   "metadata": {},
   "outputs": [
    {
     "data": {
      "text/plain": [
       "0     a\n",
       "4     e\n",
       "8     i\n",
       "14    o\n",
       "20    u\n",
       "dtype: object"
      ]
     },
     "execution_count": 88,
     "metadata": {},
     "output_type": "execute_result"
    }
   ],
   "source": [
    "ser = pd.Series(list('abcdefghijklmnopqrstuvwxyz'))\n",
    "pos = [0, 4, 8, 14, 20]\n",
    "# a e i o u\n",
    "\n",
    "ser.take(pos)"
   ]
  },
  {
   "cell_type": "markdown",
   "metadata": {},
   "source": [
    "# 20) ¿Como anadir series vertical u horizontalmente a un DataFrame?"
   ]
  },
  {
   "cell_type": "code",
   "execution_count": 92,
   "metadata": {},
   "outputs": [
    {
     "name": "stdout",
     "output_type": "stream",
     "text": [
      "   0  1\n",
      "0  0  a\n",
      "1  1  b\n",
      "2  2  c\n",
      "3  3  d\n",
      "4  4  e\n"
     ]
    }
   ],
   "source": [
    "ser1 = pd.Series(range(5))\n",
    "ser2 = pd.Series(list('abcde'))\n",
    "\n",
    "#ser1.append(ser2)\n",
    "df = pd.concat([ser1, ser2], axis=1)\n",
    "print(df)"
   ]
  },
  {
   "cell_type": "markdown",
   "metadata": {},
   "source": [
    "# 21)¿Obtener la media de una serie agrupada por otra serie?\n",
    "### groupby tambien esta disponible en series."
   ]
  },
  {
   "cell_type": "code",
   "execution_count": 128,
   "metadata": {},
   "outputs": [
    {
     "data": {
      "text/plain": [
       "banana       6.5\n",
       "manzana      3.0\n",
       "zanahoria    6.0\n",
       "dtype: float64"
      ]
     },
     "execution_count": 128,
     "metadata": {},
     "output_type": "execute_result"
    }
   ],
   "source": [
    "frutas = pd.Series(np.random.choice(['manzana', 'banana', 'zanahoria'], 10))\n",
    "pesos = pd.Series(np.linspace(1, 10, 10))\n",
    "#print(pesos.tolist())\n",
    "#print(frutas.tolist())\n",
    "#> [1.0, 2.0, 3.0, 4.0, 5.0, 6.0, 7.0, 8.0, 9.0, 10.0]\n",
    "#> ['banana', 'carrot', 'apple', 'carrot', 'carrot', 'apple', 'banana', 'carrot', 'apple', 'carrot']\n",
    "\n",
    "# Los valores van a cambiar por ser random\n",
    "# apple     6.0\n",
    "# banana    4.0\n",
    "# carrot    5.8\n",
    "# dtype: float64\n",
    "\n",
    "\n",
    "pesos.groupby(frutas).mean()"
   ]
  },
  {
   "cell_type": "markdown",
   "metadata": {},
   "source": [
    "# 22)¿Como importar solo columnas especificas de un archivo csv?"
   ]
  },
  {
   "cell_type": "code",
   "execution_count": 136,
   "metadata": {},
   "outputs": [
    {
     "name": "stdout",
     "output_type": "stream",
     "text": [
      "      crim     dis  rad  ptratio\n",
      "0  0.00632  4.0900    1     15.3\n",
      "1  0.02731  4.9671    2     17.8\n",
      "2  0.02729  4.9671    2     17.8\n",
      "3  0.03237  6.0622    3     18.7\n",
      "4  0.06905  6.0622    3     18.7\n"
     ]
    }
   ],
   "source": [
    "#https://raw.githubusercontent.com/selva86/datasets/master/BostonHousing.csv.\n",
    "path_archivo = 'https://raw.githubusercontent.com/selva86/datasets/master/BostonHousing.csv'\n",
    "\n",
    "df_completo = pd.read_csv(path_archivo)\n",
    "#print(df_completo)\n",
    "\n",
    "columnas = ['crim', 'dis','rad', 'ptratio']\n",
    "df_columnas = pd.read_csv(path_archivo,  usecols=columnas)\n",
    "print(df_columnas.head())"
   ]
  },
  {
   "cell_type": "code",
   "execution_count": null,
   "metadata": {},
   "outputs": [],
   "source": []
  }
 ],
 "metadata": {
  "kernelspec": {
   "display_name": "Python 3",
   "language": "python",
   "name": "python3"
  },
  "language_info": {
   "codemirror_mode": {
    "name": "ipython",
    "version": 3
   },
   "file_extension": ".py",
   "mimetype": "text/x-python",
   "name": "python",
   "nbconvert_exporter": "python",
   "pygments_lexer": "ipython3",
   "version": "3.7.3"
  }
 },
 "nbformat": 4,
 "nbformat_minor": 2
}
